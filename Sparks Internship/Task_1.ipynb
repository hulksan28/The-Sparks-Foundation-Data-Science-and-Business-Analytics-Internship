{
 "cells": [
  {
   "cell_type": "markdown",
   "id": "fabd3df1",
   "metadata": {},
   "source": [
    "# Task - 1\n",
    "# Prediction Using Supervised Learning\n",
    "## Name: Amara Santosh Jayanth\n",
    "### Data Science and Business Analytics at The Sparks Foundation"
   ]
  },
  {
   "cell_type": "markdown",
   "id": "393dac27",
   "metadata": {},
   "source": [
    "Importing all the required Packages."
   ]
  },
  {
   "cell_type": "code",
   "execution_count": 21,
   "id": "6ca9755d",
   "metadata": {},
   "outputs": [],
   "source": [
    "import pandas as pd\n",
    "import numpy as np  \n",
    "import matplotlib.pyplot as plt  \n",
    "%matplotlib inline"
   ]
  },
  {
   "cell_type": "markdown",
   "id": "a562ddb7",
   "metadata": {},
   "source": [
    "Reading Data from the Raw Link."
   ]
  },
  {
   "cell_type": "code",
   "execution_count": 22,
   "id": "6fbbf157",
   "metadata": {},
   "outputs": [
    {
     "name": "stdout",
     "output_type": "stream",
     "text": [
      "Data imported successfully\n"
     ]
    },
    {
     "data": {
      "text/html": [
       "<div>\n",
       "<style scoped>\n",
       "    .dataframe tbody tr th:only-of-type {\n",
       "        vertical-align: middle;\n",
       "    }\n",
       "\n",
       "    .dataframe tbody tr th {\n",
       "        vertical-align: top;\n",
       "    }\n",
       "\n",
       "    .dataframe thead th {\n",
       "        text-align: right;\n",
       "    }\n",
       "</style>\n",
       "<table border=\"1\" class=\"dataframe\">\n",
       "  <thead>\n",
       "    <tr style=\"text-align: right;\">\n",
       "      <th></th>\n",
       "      <th>Hours</th>\n",
       "      <th>Scores</th>\n",
       "    </tr>\n",
       "  </thead>\n",
       "  <tbody>\n",
       "    <tr>\n",
       "      <th>0</th>\n",
       "      <td>2.5</td>\n",
       "      <td>21</td>\n",
       "    </tr>\n",
       "    <tr>\n",
       "      <th>1</th>\n",
       "      <td>5.1</td>\n",
       "      <td>47</td>\n",
       "    </tr>\n",
       "    <tr>\n",
       "      <th>2</th>\n",
       "      <td>3.2</td>\n",
       "      <td>27</td>\n",
       "    </tr>\n",
       "    <tr>\n",
       "      <th>3</th>\n",
       "      <td>8.5</td>\n",
       "      <td>75</td>\n",
       "    </tr>\n",
       "    <tr>\n",
       "      <th>4</th>\n",
       "      <td>3.5</td>\n",
       "      <td>30</td>\n",
       "    </tr>\n",
       "    <tr>\n",
       "      <th>5</th>\n",
       "      <td>1.5</td>\n",
       "      <td>20</td>\n",
       "    </tr>\n",
       "    <tr>\n",
       "      <th>6</th>\n",
       "      <td>9.2</td>\n",
       "      <td>88</td>\n",
       "    </tr>\n",
       "    <tr>\n",
       "      <th>7</th>\n",
       "      <td>5.5</td>\n",
       "      <td>60</td>\n",
       "    </tr>\n",
       "    <tr>\n",
       "      <th>8</th>\n",
       "      <td>8.3</td>\n",
       "      <td>81</td>\n",
       "    </tr>\n",
       "    <tr>\n",
       "      <th>9</th>\n",
       "      <td>2.7</td>\n",
       "      <td>25</td>\n",
       "    </tr>\n",
       "  </tbody>\n",
       "</table>\n",
       "</div>"
      ],
      "text/plain": [
       "   Hours  Scores\n",
       "0    2.5      21\n",
       "1    5.1      47\n",
       "2    3.2      27\n",
       "3    8.5      75\n",
       "4    3.5      30\n",
       "5    1.5      20\n",
       "6    9.2      88\n",
       "7    5.5      60\n",
       "8    8.3      81\n",
       "9    2.7      25"
      ]
     },
     "execution_count": 22,
     "metadata": {},
     "output_type": "execute_result"
    }
   ],
   "source": [
    "url = \"http://bit.ly/w-data\"\n",
    "data = pd.read_csv(url)\n",
    "print(\"Data imported successfully\")\n",
    "data.head(10)"
   ]
  },
  {
   "cell_type": "markdown",
   "id": "d6a6f4fa",
   "metadata": {},
   "source": [
    "# Data Exploration\n",
    "Let's first have a descriptive exploration on our data."
   ]
  },
  {
   "cell_type": "code",
   "execution_count": 23,
   "id": "c6bde516",
   "metadata": {},
   "outputs": [
    {
     "data": {
      "text/html": [
       "<div>\n",
       "<style scoped>\n",
       "    .dataframe tbody tr th:only-of-type {\n",
       "        vertical-align: middle;\n",
       "    }\n",
       "\n",
       "    .dataframe tbody tr th {\n",
       "        vertical-align: top;\n",
       "    }\n",
       "\n",
       "    .dataframe thead th {\n",
       "        text-align: right;\n",
       "    }\n",
       "</style>\n",
       "<table border=\"1\" class=\"dataframe\">\n",
       "  <thead>\n",
       "    <tr style=\"text-align: right;\">\n",
       "      <th></th>\n",
       "      <th>Hours</th>\n",
       "      <th>Scores</th>\n",
       "    </tr>\n",
       "  </thead>\n",
       "  <tbody>\n",
       "    <tr>\n",
       "      <th>count</th>\n",
       "      <td>25.000000</td>\n",
       "      <td>25.000000</td>\n",
       "    </tr>\n",
       "    <tr>\n",
       "      <th>mean</th>\n",
       "      <td>5.012000</td>\n",
       "      <td>51.480000</td>\n",
       "    </tr>\n",
       "    <tr>\n",
       "      <th>std</th>\n",
       "      <td>2.525094</td>\n",
       "      <td>25.286887</td>\n",
       "    </tr>\n",
       "    <tr>\n",
       "      <th>min</th>\n",
       "      <td>1.100000</td>\n",
       "      <td>17.000000</td>\n",
       "    </tr>\n",
       "    <tr>\n",
       "      <th>25%</th>\n",
       "      <td>2.700000</td>\n",
       "      <td>30.000000</td>\n",
       "    </tr>\n",
       "    <tr>\n",
       "      <th>50%</th>\n",
       "      <td>4.800000</td>\n",
       "      <td>47.000000</td>\n",
       "    </tr>\n",
       "    <tr>\n",
       "      <th>75%</th>\n",
       "      <td>7.400000</td>\n",
       "      <td>75.000000</td>\n",
       "    </tr>\n",
       "    <tr>\n",
       "      <th>max</th>\n",
       "      <td>9.200000</td>\n",
       "      <td>95.000000</td>\n",
       "    </tr>\n",
       "  </tbody>\n",
       "</table>\n",
       "</div>"
      ],
      "text/plain": [
       "           Hours     Scores\n",
       "count  25.000000  25.000000\n",
       "mean    5.012000  51.480000\n",
       "std     2.525094  25.286887\n",
       "min     1.100000  17.000000\n",
       "25%     2.700000  30.000000\n",
       "50%     4.800000  47.000000\n",
       "75%     7.400000  75.000000\n",
       "max     9.200000  95.000000"
      ]
     },
     "execution_count": 23,
     "metadata": {},
     "output_type": "execute_result"
    }
   ],
   "source": [
    "data.describe()"
   ]
  },
  {
   "cell_type": "markdown",
   "id": "e701a7b2",
   "metadata": {},
   "source": [
    "After exploring the given data, I found two variables which causes the impact of our Analysis.\n",
    "So lets Plot a 2-D plot Of 'Hours' against 'Scores' in the given data."
   ]
  },
  {
   "cell_type": "code",
   "execution_count": 24,
   "id": "91a034cb",
   "metadata": {},
   "outputs": [
    {
     "data": {
      "image/png": "[encoded data removed]",
      "text/plain": [
       "<Figure size 432x288 with 1 Axes>"
      ]
     },
     "metadata": {
      "needs_background": "light"
     },
     "output_type": "display_data"
    }
   ],
   "source": [
    "plt.scatter(data.Hours,data.Scores, color='red')\n",
    "plt.xlabel(\"Number of Hours the students studied\")\n",
    "plt.ylabel(\"The Percentage obtained\")\n",
    "plt.show()"
   ]
  },
  {
   "cell_type": "markdown",
   "id": "713639ab",
   "metadata": {},
   "source": [
    "Here, we can see that the curve is increasing similar to an inclined straight line, which concludes us that we can use the simple linear regression to predict the percentage of a student for the number of hours he/she studies."
   ]
  },
  {
   "cell_type": "markdown",
   "id": "c2a92bee",
   "metadata": {},
   "source": [
    "### Now lets create Train and Test data sets from the given data\n",
    "Train/Test Split involves splitting the dataset into training and testing sets that are mutually exclusive. After which, you train with the training set and test with the testing set.\n",
    "This helps us to get out of sample accuracy in predicting the target variable.\n",
    "Let's split our dataset into train and test sets. 80% of the entire dataset will be used for training and 20% for testing. We create a mask to select random rows using np.random.rand() function:"
   ]
  },
  {
   "cell_type": "code",
   "execution_count": 25,
   "id": "ce6e2866",
   "metadata": {},
   "outputs": [
    {
     "name": "stdout",
     "output_type": "stream",
     "text": [
      "Train Data\n",
      "   Hours  Scores\n",
      "0    2.5      21\n",
      "2    3.2      27\n",
      "3    8.5      75\n",
      "5    1.5      20\n",
      "6    9.2      88\n",
      "Test Data\n",
      "    Hours  Scores\n",
      "1     5.1      47\n",
      "4     3.5      30\n",
      "10    7.7      85\n",
      "15    8.9      95\n",
      "17    1.9      24\n"
     ]
    }
   ],
   "source": [
    "#Creating the mask and splitting it as train_data (80% of data) and test_data(20% of data)\n",
    "mask=np.random.rand(len(data))<0.8\n",
    "train_data=data[mask]\n",
    "test_data=data[~mask]\n",
    "\n",
    "#now lets look the head of both train and test data\n",
    "print(\"Train Data\")\n",
    "print(train_data.head())\n",
    "print(\"Test Data\")\n",
    "print(test_data.head())"
   ]
  },
  {
   "cell_type": "markdown",
   "id": "d0ce9d73",
   "metadata": {},
   "source": [
    "## Now lets start the Simple Linear Regression Model on the test and train data"
   ]
  },
  {
   "cell_type": "markdown",
   "id": "9c30e518",
   "metadata": {},
   "source": [
    "Train - Data Distribution"
   ]
  },
  {
   "cell_type": "code",
   "execution_count": 26,
   "id": "23eb9692",
   "metadata": {},
   "outputs": [
    {
     "data": {
      "image/png": "[encoded data removed]",
      "text/plain": [
       "<Figure size 432x288 with 1 Axes>"
      ]
     },
     "metadata": {
      "needs_background": "light"
     },
     "output_type": "display_data"
    }
   ],
   "source": [
    "plt.scatter(train_data.Hours,train_data.Scores, color='green')\n",
    "plt.xlabel(\"Number of Hours the students studied\")\n",
    "plt.ylabel(\"Percentage Score\")\n",
    "plt.show()"
   ]
  },
  {
   "cell_type": "markdown",
   "id": "7657ea93",
   "metadata": {},
   "source": [
    "## Modeling\n",
    "Using sklearn package to model data"
   ]
  },
  {
   "cell_type": "code",
   "execution_count": 27,
   "id": "123a4f78",
   "metadata": {},
   "outputs": [],
   "source": [
    "#splitting the train data into respective variables.\n",
    "train_x = np.asanyarray(train_data[['Hours']])\n",
    "train_y = np.asanyarray(train_data[['Scores']])"
   ]
  },
  {
   "cell_type": "markdown",
   "id": "cc5ba6e2",
   "metadata": {},
   "source": [
    "## Training the data"
   ]
  },
  {
   "cell_type": "code",
   "execution_count": 28,
   "id": "2ed862d9",
   "metadata": {},
   "outputs": [
    {
     "name": "stdout",
     "output_type": "stream",
     "text": [
      "Coefficients:  [[9.01824077]]\n",
      "Intercept:  [5.05427199]\n"
     ]
    }
   ],
   "source": [
    "from sklearn import linear_model\n",
    "#Using linear regression model as our data seems to be linear.\n",
    "regr = linear_model.LinearRegression()\n",
    "regr.fit (train_x, train_y)\n",
    "# The coefficients (Finding the intercept and slope of the linear regression line)\n",
    "print ('Coefficients: ', regr.coef_)\n",
    "print ('Intercept: ',regr.intercept_)"
   ]
  },
  {
   "cell_type": "markdown",
   "id": "daea9a90",
   "metadata": {},
   "source": [
    "Coefficient and Intercept in the simple linear regression are used as the parameters of the fit line. Given that it is a simple linear regression, with only 2 parameters, and knowing that the parameters are the intercept and slope of the line, sklearn can estimate them directly from our data."
   ]
  },
  {
   "cell_type": "markdown",
   "id": "310dd232",
   "metadata": {},
   "source": [
    "### Plot the Fit Line( Linear Regression Line)"
   ]
  },
  {
   "cell_type": "code",
   "execution_count": 29,
   "id": "11c95030",
   "metadata": {},
   "outputs": [
    {
     "data": {
      "image/png": "[encoded data removed]",
      "text/plain": [
       "<Figure size 432x288 with 1 Axes>"
      ]
     },
     "metadata": {
      "needs_background": "light"
     },
     "output_type": "display_data"
    }
   ],
   "source": [
    "#plotting the train data after splitting.\n",
    "plt.scatter(train_x,train_y,color ='blue')\n",
    "#plotting the fit line.\n",
    "plt.plot(train_x,regr.coef_[0][0]*train_x+regr.intercept_[0],color='black')\n",
    "plt.xlabel(\"No of hours the student studied\")\n",
    "plt.ylabel(\"Percentage Score\")\n",
    "plt.show()"
   ]
  },
  {
   "cell_type": "markdown",
   "id": "5a7cc0fd",
   "metadata": {},
   "source": [
    "### Now we predict the target variable of test data"
   ]
  },
  {
   "cell_type": "markdown",
   "id": "9a12e9cd",
   "metadata": {},
   "source": [
    "We compare the actual values and predicted values. And we calculate the accuracy of our regression model. Evaluation metrics provide a key role in the development of a model, as it provides insight to areas that require improvement."
   ]
  },
  {
   "cell_type": "code",
   "execution_count": 32,
   "id": "a84b2654",
   "metadata": {},
   "outputs": [],
   "source": [
    "#splitting the test data into primary and target variables.\n",
    "test_x = np.asanyarray(test_data[['Hours']])\n",
    "test_y = np.asanyarray(test_data[['Scores']])\n",
    "\n",
    "#Predicting The Scores from the Hours.\n",
    "pred_y=regr.predict(test_x)\n",
    "\n",
    "#converting into 1-D array.\n",
    "pred_y=pred_y.ravel()\n",
    "test_y=test_y.ravel()"
   ]
  },
  {
   "cell_type": "markdown",
   "id": "99b79f1a",
   "metadata": {},
   "source": [
    "Now lets create a data frame containing actual values and predicted values."
   ]
  },
  {
   "cell_type": "code",
   "execution_count": 31,
   "id": "96011bea",
   "metadata": {},
   "outputs": [
    {
     "data": {
      "text/html": [
       "<div>\n",
       "<style scoped>\n",
       "    .dataframe tbody tr th:only-of-type {\n",
       "        vertical-align: middle;\n",
       "    }\n",
       "\n",
       "    .dataframe tbody tr th {\n",
       "        vertical-align: top;\n",
       "    }\n",
       "\n",
       "    .dataframe thead th {\n",
       "        text-align: right;\n",
       "    }\n",
       "</style>\n",
       "<table border=\"1\" class=\"dataframe\">\n",
       "  <thead>\n",
       "    <tr style=\"text-align: right;\">\n",
       "      <th></th>\n",
       "      <th>Actual</th>\n",
       "      <th>Predicted</th>\n",
       "    </tr>\n",
       "  </thead>\n",
       "  <tbody>\n",
       "    <tr>\n",
       "      <th>0</th>\n",
       "      <td>47</td>\n",
       "      <td>51.047300</td>\n",
       "    </tr>\n",
       "    <tr>\n",
       "      <th>1</th>\n",
       "      <td>30</td>\n",
       "      <td>36.618115</td>\n",
       "    </tr>\n",
       "    <tr>\n",
       "      <th>2</th>\n",
       "      <td>85</td>\n",
       "      <td>74.494726</td>\n",
       "    </tr>\n",
       "    <tr>\n",
       "      <th>3</th>\n",
       "      <td>95</td>\n",
       "      <td>85.316615</td>\n",
       "    </tr>\n",
       "    <tr>\n",
       "      <th>4</th>\n",
       "      <td>24</td>\n",
       "      <td>22.188929</td>\n",
       "    </tr>\n",
       "  </tbody>\n",
       "</table>\n",
       "</div>"
      ],
      "text/plain": [
       "   Actual  Predicted\n",
       "0      47  51.047300\n",
       "1      30  36.618115\n",
       "2      85  74.494726\n",
       "3      95  85.316615\n",
       "4      24  22.188929"
      ]
     },
     "execution_count": 31,
     "metadata": {},
     "output_type": "execute_result"
    }
   ],
   "source": [
    "compare=pd.DataFrame({\"Actual\": test_y,\"Predicted\": pred_y},index=list(range(0,pred_y.shape[0])))\n",
    "compare.head()\n",
    "    "
   ]
  },
  {
   "cell_type": "markdown",
   "id": "91309683",
   "metadata": {},
   "source": [
    "Predicting it with our Own value. What will be the predicted score, if a student studies 9.25 hours/day?\n"
   ]
  },
  {
   "cell_type": "code",
   "execution_count": 35,
   "id": "1ef23737",
   "metadata": {},
   "outputs": [
    {
     "name": "stdout",
     "output_type": "stream",
     "text": [
      "the no of hours studied: [[9.25]]\n",
      "the score predicted: [88.4729991]\n"
     ]
    }
   ],
   "source": [
    "user_hours=[[9.25]]\n",
    "pred_score=regr.predict(user_hours)\n",
    "print(\"the no of hours studied: {}\".format(user_hours))\n",
    "print(\"the score predicted: {}\".format(pred_score[0]))"
   ]
  },
  {
   "cell_type": "markdown",
   "id": "4d5f94c4",
   "metadata": {},
   "source": [
    "Now so we have got the predicted value of our own input. But how accurate is the value?\n",
    "There are different model evaluation metrics, lets use MSE here to calculate the accuracy of our model based on the test set:\n",
    "\n",
    "Mean Absolute Error: It is the mean of the absolute value of the errors. This is the easiest of the metrics to understand since it’s just average error.\n",
    "\n",
    "Mean Squared Error (MSE): Mean Squared Error (MSE) is the mean of the squared error. It’s more popular than Mean Absolute Error because the focus is geared more towards large errors. This is due to the squared term exponentially increasing larger errors in comparison to smaller ones.\n",
    "\n",
    "Root Mean Squared Error (RMSE).\n",
    "\n",
    "R-squared is not an error, but rather a popular metric to measure the performance of your regression model. It represents how close the data points are to the fitted regression line. The higher the R-squared value, the better the model fits your data."
   ]
  },
  {
   "cell_type": "code",
   "execution_count": 40,
   "id": "25a0544b",
   "metadata": {},
   "outputs": [
    {
     "name": "stdout",
     "output_type": "stream",
     "text": [
      "The mean absolute error: 7.43\n",
      "Residual sum of squares: 65.15\n",
      "R2 score: 0.91\n"
     ]
    }
   ],
   "source": [
    "#importing r2_score.\n",
    "from sklearn import metrics\n",
    "\n",
    "print(\"The mean absolute error: %.2f\" % np.mean(np.absolute(test_y-pred_y)))\n",
    "print(\"Residual sum of squares: %.2f\" % np.mean((test_y-pred_y)**2))\n",
    "print(\"R2 score: %.2f\" % r2_score(test_y,pred_y))"
   ]
  },
  {
   "cell_type": "markdown",
   "id": "44fc5cdf",
   "metadata": {},
   "source": [
    "The more or closer the r2 score is to 1.0 is the better in prediction."
   ]
  },
  {
   "cell_type": "code",
   "execution_count": null,
   "id": "6d6d0894",
   "metadata": {},
   "outputs": [],
   "source": []
  }
 ],
 "metadata": {
  "kernelspec": {
   "display_name": "Python 3",
   "language": "python",
   "name": "python3"
  },
  "language_info": {
   "codemirror_mode": {
    "name": "ipython",
    "version": 3
   },
   "file_extension": ".py",
   "mimetype": "text/x-python",
   "name": "python",
   "nbconvert_exporter": "python",
   "pygments_lexer": "ipython3",
   "version": "3.8.8"
  }
 },
 "nbformat": 4,
 "nbformat_minor": 5
}
